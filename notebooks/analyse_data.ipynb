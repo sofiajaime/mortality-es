{
 "metadata": {
  "language_info": {
   "codemirror_mode": {
    "name": "ipython",
    "version": 3
   },
   "file_extension": ".py",
   "mimetype": "text/x-python",
   "name": "python",
   "nbconvert_exporter": "python",
   "pygments_lexer": "ipython3",
   "version": "3.8.5-final"
  },
  "orig_nbformat": 2,
  "kernelspec": {
   "name": "python3",
   "display_name": "Python 3.8.5 64-bit",
   "metadata": {
    "interpreter": {
     "hash": "31f2aee4e71d21fbe5cf8b01ff0e069b9275f58929596ceb00d14d90e3e16cd6"
    }
   }
  }
 },
 "nbformat": 4,
 "nbformat_minor": 2,
 "cells": [
  {
   "cell_type": "code",
   "execution_count": 2,
   "metadata": {},
   "outputs": [],
   "source": [
    "import pandas as pd"
   ]
  },
  {
   "cell_type": "code",
   "execution_count": 3,
   "metadata": {},
   "outputs": [
    {
     "output_type": "stream",
     "name": "stdout",
     "text": [
      "(8347583, 32)\n"
     ]
    },
    {
     "output_type": "execute_result",
     "data": {
      "text/plain": [
       "  PROVI MUNI MESN  ANON SEX MESDEF ANODEF NACION PAISNAC LUGNAC  ... TAMAMUNI  \\\n",
       "0    18        10  1900   1     07   1975                        ...            \n",
       "1    19        07  1903   1     11   1975                        ...            \n",
       "2    23        08  1934   1     08   1975                        ...            \n",
       "3    24        11  1960   6     06   1975                        ...            \n",
       "4    24        02  1923   1     03   1975                        ...            \n",
       "\n",
       "  TAMAMUNN TAMAMUNR TAMAPAISN TAMAPAISR TAMAPAISNACION CBAS CRED CPER CINF  \n",
       "0                                                                           \n",
       "1                                                                           \n",
       "2                                                                           \n",
       "3                                                                           \n",
       "4                                                                           \n",
       "\n",
       "[5 rows x 32 columns]"
      ],
      "text/html": "<div>\n<style scoped>\n    .dataframe tbody tr th:only-of-type {\n        vertical-align: middle;\n    }\n\n    .dataframe tbody tr th {\n        vertical-align: top;\n    }\n\n    .dataframe thead th {\n        text-align: right;\n    }\n</style>\n<table border=\"1\" class=\"dataframe\">\n  <thead>\n    <tr style=\"text-align: right;\">\n      <th></th>\n      <th>PROVI</th>\n      <th>MUNI</th>\n      <th>MESN</th>\n      <th>ANON</th>\n      <th>SEX</th>\n      <th>MESDEF</th>\n      <th>ANODEF</th>\n      <th>NACION</th>\n      <th>PAISNAC</th>\n      <th>LUGNAC</th>\n      <th>...</th>\n      <th>TAMAMUNI</th>\n      <th>TAMAMUNN</th>\n      <th>TAMAMUNR</th>\n      <th>TAMAPAISN</th>\n      <th>TAMAPAISR</th>\n      <th>TAMAPAISNACION</th>\n      <th>CBAS</th>\n      <th>CRED</th>\n      <th>CPER</th>\n      <th>CINF</th>\n    </tr>\n  </thead>\n  <tbody>\n    <tr>\n      <th>0</th>\n      <td>18</td>\n      <td></td>\n      <td>10</td>\n      <td>1900</td>\n      <td>1</td>\n      <td>07</td>\n      <td>1975</td>\n      <td></td>\n      <td></td>\n      <td></td>\n      <td>...</td>\n      <td></td>\n      <td></td>\n      <td></td>\n      <td></td>\n      <td></td>\n      <td></td>\n      <td></td>\n      <td></td>\n      <td></td>\n      <td></td>\n    </tr>\n    <tr>\n      <th>1</th>\n      <td>19</td>\n      <td></td>\n      <td>07</td>\n      <td>1903</td>\n      <td>1</td>\n      <td>11</td>\n      <td>1975</td>\n      <td></td>\n      <td></td>\n      <td></td>\n      <td>...</td>\n      <td></td>\n      <td></td>\n      <td></td>\n      <td></td>\n      <td></td>\n      <td></td>\n      <td></td>\n      <td></td>\n      <td></td>\n      <td></td>\n    </tr>\n    <tr>\n      <th>2</th>\n      <td>23</td>\n      <td></td>\n      <td>08</td>\n      <td>1934</td>\n      <td>1</td>\n      <td>08</td>\n      <td>1975</td>\n      <td></td>\n      <td></td>\n      <td></td>\n      <td>...</td>\n      <td></td>\n      <td></td>\n      <td></td>\n      <td></td>\n      <td></td>\n      <td></td>\n      <td></td>\n      <td></td>\n      <td></td>\n      <td></td>\n    </tr>\n    <tr>\n      <th>3</th>\n      <td>24</td>\n      <td></td>\n      <td>11</td>\n      <td>1960</td>\n      <td>6</td>\n      <td>06</td>\n      <td>1975</td>\n      <td></td>\n      <td></td>\n      <td></td>\n      <td>...</td>\n      <td></td>\n      <td></td>\n      <td></td>\n      <td></td>\n      <td></td>\n      <td></td>\n      <td></td>\n      <td></td>\n      <td></td>\n      <td></td>\n    </tr>\n    <tr>\n      <th>4</th>\n      <td>24</td>\n      <td></td>\n      <td>02</td>\n      <td>1923</td>\n      <td>1</td>\n      <td>03</td>\n      <td>1975</td>\n      <td></td>\n      <td></td>\n      <td></td>\n      <td>...</td>\n      <td></td>\n      <td></td>\n      <td></td>\n      <td></td>\n      <td></td>\n      <td></td>\n      <td></td>\n      <td></td>\n      <td></td>\n      <td></td>\n    </tr>\n  </tbody>\n</table>\n<p>5 rows × 32 columns</p>\n</div>"
     },
     "metadata": {},
     "execution_count": 3
    }
   ],
   "source": [
    "df = pd.read_stata(\"../scripts/output/mort_ES_1975_2000.dta\", convert_categoricals=False)\n",
    "print(df.shape)\n",
    "df.head()"
   ]
  },
  {
   "cell_type": "code",
   "execution_count": 4,
   "metadata": {},
   "outputs": [
    {
     "output_type": "execute_result",
     "data": {
      "text/plain": [
       "         PROVI    MUNI    MESN    ANON     SEX  MESDEF  NACION  PAISNAC  \\\n",
       "ANODEF                                                                    \n",
       "1975    298192  298192  298192  298192  298192  298192  298192   298192   \n",
       "1976    299007  299007  299007  299007  299007  299007  299007   299007   \n",
       "1977    294324  294324  294324  294324  294324  294324  294324   294324   \n",
       "1978    296781  296781  296781  296781  296781  296781  296781   296781   \n",
       "1979    291213  291213  291213  291213  291213  291213  291213   291213   \n",
       "1980    289344  289344  289344  289344  289344  289344  289344   289344   \n",
       "1981    293386  293386  293386  293386  293386  293386  293386   293386   \n",
       "1982    286655  286655  286655  286655  286655  286655  286655   286655   \n",
       "1983    302569  302569  302569  302569  302569  302569  302569   302569   \n",
       "1984    299409  299409  299409  299409  299409  299409  299409   299409   \n",
       "1985    312532  312532  312532  312532  312532  312532  312532   312532   \n",
       "1986    310413  310413  310413  310413  310413  310413  310413   310413   \n",
       "1987    310073  310073  310073  310073  310073  310073  310073   310073   \n",
       "1988    319437  319437  319437  319437  319437  319437  319437   319437   \n",
       "1989    324796  324796  324796  324796  324796  324796  324796   324796   \n",
       "1990    333142  333142  333142  333142  333142  333142  333142   333142   \n",
       "1991    337691  337691  337691  337691  337691  337691  337691   337691   \n",
       "1992    331515  331515  331515  331515  331515  331515  331515   331515   \n",
       "1993    339661  339661  339661  339661  339661  339661  339661   339661   \n",
       "1994    338242  338242  338242  338242  338242  338242  338242   338242   \n",
       "1995    346227  346227  346227  346227  346227  346227  346227   346227   \n",
       "1996    351449  351449  351449  351449  351449  351449  351449   351449   \n",
       "1997    349521  349521  349521  349521  349521  349521  349521   349521   \n",
       "1998    360511  360511  360511  360511  360511  360511  360511   360511   \n",
       "1999    371102  371102  371102  371102  371102  371102  371102   371102   \n",
       "2000    360391  360391  360391  360391  360391  360391  360391   360391   \n",
       "\n",
       "        LUGNAC  PROVNAC  ...  TAMAMUNI  TAMAMUNN  TAMAMUNR  TAMAPAISN  \\\n",
       "ANODEF                   ...                                            \n",
       "1975    298192   298192  ...    298192    298192    298192     298192   \n",
       "1976    299007   299007  ...    299007    299007    299007     299007   \n",
       "1977    294324   294324  ...    294324    294324    294324     294324   \n",
       "1978    296781   296781  ...    296781    296781    296781     296781   \n",
       "1979    291213   291213  ...    291213    291213    291213     291213   \n",
       "1980    289344   289344  ...    289344    289344    289344     289344   \n",
       "1981    293386   293386  ...    293386    293386    293386     293386   \n",
       "1982    286655   286655  ...    286655    286655    286655     286655   \n",
       "1983    302569   302569  ...    302569    302569    302569     302569   \n",
       "1984    299409   299409  ...    299409    299409    299409     299409   \n",
       "1985    312532   312532  ...    312532    312532    312532     312532   \n",
       "1986    310413   310413  ...    310413    310413    310413     310413   \n",
       "1987    310073   310073  ...    310073    310073    310073     310073   \n",
       "1988    319437   319437  ...    319437    319437    319437     319437   \n",
       "1989    324796   324796  ...    324796    324796    324796     324796   \n",
       "1990    333142   333142  ...    333142    333142    333142     333142   \n",
       "1991    337691   337691  ...    337691    337691    337691     337691   \n",
       "1992    331515   331515  ...    331515    331515    331515     331515   \n",
       "1993    339661   339661  ...    339661    339661    339661     339661   \n",
       "1994    338242   338242  ...    338242    338242    338242     338242   \n",
       "1995    346227   346227  ...    346227    346227    346227     346227   \n",
       "1996    351449   351449  ...    351449    351449    351449     351449   \n",
       "1997    349521   349521  ...    349521    349521    349521     349521   \n",
       "1998    360511   360511  ...    360511    360511    360511     360511   \n",
       "1999    371102   371102  ...    371102    371102    371102     371102   \n",
       "2000    360391   360391  ...    360391    360391    360391     360391   \n",
       "\n",
       "        TAMAPAISR  TAMAPAISNACION    CBAS    CRED    CPER    CINF  \n",
       "ANODEF                                                             \n",
       "1975       298192          298192  298192  298192  298192  298192  \n",
       "1976       299007          299007  299007  299007  299007  299007  \n",
       "1977       294324          294324  294324  294324  294324  294324  \n",
       "1978       296781          296781  296781  296781  296781  296781  \n",
       "1979       291213          291213  291213  291213  291213  291213  \n",
       "1980       289344          289344  289344  289344  289344  289344  \n",
       "1981       293386          293386  293386  293386  293386  293386  \n",
       "1982       286655          286655  286655  286655  286655  286655  \n",
       "1983       302569          302569  302569  302569  302569  302569  \n",
       "1984       299409          299409  299409  299409  299409  299409  \n",
       "1985       312532          312532  312532  312532  312532  312532  \n",
       "1986       310413          310413  310413  310413  310413  310413  \n",
       "1987       310073          310073  310073  310073  310073  310073  \n",
       "1988       319437          319437  319437  319437  319437  319437  \n",
       "1989       324796          324796  324796  324796  324796  324796  \n",
       "1990       333142          333142  333142  333142  333142  333142  \n",
       "1991       337691          337691  337691  337691  337691  337691  \n",
       "1992       331515          331515  331515  331515  331515  331515  \n",
       "1993       339661          339661  339661  339661  339661  339661  \n",
       "1994       338242          338242  338242  338242  338242  338242  \n",
       "1995       346227          346227  346227  346227  346227  346227  \n",
       "1996       351449          351449  351449  351449  351449  351449  \n",
       "1997       349521          349521  349521  349521  349521  349521  \n",
       "1998       360511          360511  360511  360511  360511  360511  \n",
       "1999       371102          371102  371102  371102  371102  371102  \n",
       "2000       360391          360391  360391  360391  360391  360391  \n",
       "\n",
       "[26 rows x 31 columns]"
      ],
      "text/html": "<div>\n<style scoped>\n    .dataframe tbody tr th:only-of-type {\n        vertical-align: middle;\n    }\n\n    .dataframe tbody tr th {\n        vertical-align: top;\n    }\n\n    .dataframe thead th {\n        text-align: right;\n    }\n</style>\n<table border=\"1\" class=\"dataframe\">\n  <thead>\n    <tr style=\"text-align: right;\">\n      <th></th>\n      <th>PROVI</th>\n      <th>MUNI</th>\n      <th>MESN</th>\n      <th>ANON</th>\n      <th>SEX</th>\n      <th>MESDEF</th>\n      <th>NACION</th>\n      <th>PAISNAC</th>\n      <th>LUGNAC</th>\n      <th>PROVNAC</th>\n      <th>...</th>\n      <th>TAMAMUNI</th>\n      <th>TAMAMUNN</th>\n      <th>TAMAMUNR</th>\n      <th>TAMAPAISN</th>\n      <th>TAMAPAISR</th>\n      <th>TAMAPAISNACION</th>\n      <th>CBAS</th>\n      <th>CRED</th>\n      <th>CPER</th>\n      <th>CINF</th>\n    </tr>\n    <tr>\n      <th>ANODEF</th>\n      <th></th>\n      <th></th>\n      <th></th>\n      <th></th>\n      <th></th>\n      <th></th>\n      <th></th>\n      <th></th>\n      <th></th>\n      <th></th>\n      <th></th>\n      <th></th>\n      <th></th>\n      <th></th>\n      <th></th>\n      <th></th>\n      <th></th>\n      <th></th>\n      <th></th>\n      <th></th>\n      <th></th>\n    </tr>\n  </thead>\n  <tbody>\n    <tr>\n      <th>1975</th>\n      <td>298192</td>\n      <td>298192</td>\n      <td>298192</td>\n      <td>298192</td>\n      <td>298192</td>\n      <td>298192</td>\n      <td>298192</td>\n      <td>298192</td>\n      <td>298192</td>\n      <td>298192</td>\n      <td>...</td>\n      <td>298192</td>\n      <td>298192</td>\n      <td>298192</td>\n      <td>298192</td>\n      <td>298192</td>\n      <td>298192</td>\n      <td>298192</td>\n      <td>298192</td>\n      <td>298192</td>\n      <td>298192</td>\n    </tr>\n    <tr>\n      <th>1976</th>\n      <td>299007</td>\n      <td>299007</td>\n      <td>299007</td>\n      <td>299007</td>\n      <td>299007</td>\n      <td>299007</td>\n      <td>299007</td>\n      <td>299007</td>\n      <td>299007</td>\n      <td>299007</td>\n      <td>...</td>\n      <td>299007</td>\n      <td>299007</td>\n      <td>299007</td>\n      <td>299007</td>\n      <td>299007</td>\n      <td>299007</td>\n      <td>299007</td>\n      <td>299007</td>\n      <td>299007</td>\n      <td>299007</td>\n    </tr>\n    <tr>\n      <th>1977</th>\n      <td>294324</td>\n      <td>294324</td>\n      <td>294324</td>\n      <td>294324</td>\n      <td>294324</td>\n      <td>294324</td>\n      <td>294324</td>\n      <td>294324</td>\n      <td>294324</td>\n      <td>294324</td>\n      <td>...</td>\n      <td>294324</td>\n      <td>294324</td>\n      <td>294324</td>\n      <td>294324</td>\n      <td>294324</td>\n      <td>294324</td>\n      <td>294324</td>\n      <td>294324</td>\n      <td>294324</td>\n      <td>294324</td>\n    </tr>\n    <tr>\n      <th>1978</th>\n      <td>296781</td>\n      <td>296781</td>\n      <td>296781</td>\n      <td>296781</td>\n      <td>296781</td>\n      <td>296781</td>\n      <td>296781</td>\n      <td>296781</td>\n      <td>296781</td>\n      <td>296781</td>\n      <td>...</td>\n      <td>296781</td>\n      <td>296781</td>\n      <td>296781</td>\n      <td>296781</td>\n      <td>296781</td>\n      <td>296781</td>\n      <td>296781</td>\n      <td>296781</td>\n      <td>296781</td>\n      <td>296781</td>\n    </tr>\n    <tr>\n      <th>1979</th>\n      <td>291213</td>\n      <td>291213</td>\n      <td>291213</td>\n      <td>291213</td>\n      <td>291213</td>\n      <td>291213</td>\n      <td>291213</td>\n      <td>291213</td>\n      <td>291213</td>\n      <td>291213</td>\n      <td>...</td>\n      <td>291213</td>\n      <td>291213</td>\n      <td>291213</td>\n      <td>291213</td>\n      <td>291213</td>\n      <td>291213</td>\n      <td>291213</td>\n      <td>291213</td>\n      <td>291213</td>\n      <td>291213</td>\n    </tr>\n    <tr>\n      <th>1980</th>\n      <td>289344</td>\n      <td>289344</td>\n      <td>289344</td>\n      <td>289344</td>\n      <td>289344</td>\n      <td>289344</td>\n      <td>289344</td>\n      <td>289344</td>\n      <td>289344</td>\n      <td>289344</td>\n      <td>...</td>\n      <td>289344</td>\n      <td>289344</td>\n      <td>289344</td>\n      <td>289344</td>\n      <td>289344</td>\n      <td>289344</td>\n      <td>289344</td>\n      <td>289344</td>\n      <td>289344</td>\n      <td>289344</td>\n    </tr>\n    <tr>\n      <th>1981</th>\n      <td>293386</td>\n      <td>293386</td>\n      <td>293386</td>\n      <td>293386</td>\n      <td>293386</td>\n      <td>293386</td>\n      <td>293386</td>\n      <td>293386</td>\n      <td>293386</td>\n      <td>293386</td>\n      <td>...</td>\n      <td>293386</td>\n      <td>293386</td>\n      <td>293386</td>\n      <td>293386</td>\n      <td>293386</td>\n      <td>293386</td>\n      <td>293386</td>\n      <td>293386</td>\n      <td>293386</td>\n      <td>293386</td>\n    </tr>\n    <tr>\n      <th>1982</th>\n      <td>286655</td>\n      <td>286655</td>\n      <td>286655</td>\n      <td>286655</td>\n      <td>286655</td>\n      <td>286655</td>\n      <td>286655</td>\n      <td>286655</td>\n      <td>286655</td>\n      <td>286655</td>\n      <td>...</td>\n      <td>286655</td>\n      <td>286655</td>\n      <td>286655</td>\n      <td>286655</td>\n      <td>286655</td>\n      <td>286655</td>\n      <td>286655</td>\n      <td>286655</td>\n      <td>286655</td>\n      <td>286655</td>\n    </tr>\n    <tr>\n      <th>1983</th>\n      <td>302569</td>\n      <td>302569</td>\n      <td>302569</td>\n      <td>302569</td>\n      <td>302569</td>\n      <td>302569</td>\n      <td>302569</td>\n      <td>302569</td>\n      <td>302569</td>\n      <td>302569</td>\n      <td>...</td>\n      <td>302569</td>\n      <td>302569</td>\n      <td>302569</td>\n      <td>302569</td>\n      <td>302569</td>\n      <td>302569</td>\n      <td>302569</td>\n      <td>302569</td>\n      <td>302569</td>\n      <td>302569</td>\n    </tr>\n    <tr>\n      <th>1984</th>\n      <td>299409</td>\n      <td>299409</td>\n      <td>299409</td>\n      <td>299409</td>\n      <td>299409</td>\n      <td>299409</td>\n      <td>299409</td>\n      <td>299409</td>\n      <td>299409</td>\n      <td>299409</td>\n      <td>...</td>\n      <td>299409</td>\n      <td>299409</td>\n      <td>299409</td>\n      <td>299409</td>\n      <td>299409</td>\n      <td>299409</td>\n      <td>299409</td>\n      <td>299409</td>\n      <td>299409</td>\n      <td>299409</td>\n    </tr>\n    <tr>\n      <th>1985</th>\n      <td>312532</td>\n      <td>312532</td>\n      <td>312532</td>\n      <td>312532</td>\n      <td>312532</td>\n      <td>312532</td>\n      <td>312532</td>\n      <td>312532</td>\n      <td>312532</td>\n      <td>312532</td>\n      <td>...</td>\n      <td>312532</td>\n      <td>312532</td>\n      <td>312532</td>\n      <td>312532</td>\n      <td>312532</td>\n      <td>312532</td>\n      <td>312532</td>\n      <td>312532</td>\n      <td>312532</td>\n      <td>312532</td>\n    </tr>\n    <tr>\n      <th>1986</th>\n      <td>310413</td>\n      <td>310413</td>\n      <td>310413</td>\n      <td>310413</td>\n      <td>310413</td>\n      <td>310413</td>\n      <td>310413</td>\n      <td>310413</td>\n      <td>310413</td>\n      <td>310413</td>\n      <td>...</td>\n      <td>310413</td>\n      <td>310413</td>\n      <td>310413</td>\n      <td>310413</td>\n      <td>310413</td>\n      <td>310413</td>\n      <td>310413</td>\n      <td>310413</td>\n      <td>310413</td>\n      <td>310413</td>\n    </tr>\n    <tr>\n      <th>1987</th>\n      <td>310073</td>\n      <td>310073</td>\n      <td>310073</td>\n      <td>310073</td>\n      <td>310073</td>\n      <td>310073</td>\n      <td>310073</td>\n      <td>310073</td>\n      <td>310073</td>\n      <td>310073</td>\n      <td>...</td>\n      <td>310073</td>\n      <td>310073</td>\n      <td>310073</td>\n      <td>310073</td>\n      <td>310073</td>\n      <td>310073</td>\n      <td>310073</td>\n      <td>310073</td>\n      <td>310073</td>\n      <td>310073</td>\n    </tr>\n    <tr>\n      <th>1988</th>\n      <td>319437</td>\n      <td>319437</td>\n      <td>319437</td>\n      <td>319437</td>\n      <td>319437</td>\n      <td>319437</td>\n      <td>319437</td>\n      <td>319437</td>\n      <td>319437</td>\n      <td>319437</td>\n      <td>...</td>\n      <td>319437</td>\n      <td>319437</td>\n      <td>319437</td>\n      <td>319437</td>\n      <td>319437</td>\n      <td>319437</td>\n      <td>319437</td>\n      <td>319437</td>\n      <td>319437</td>\n      <td>319437</td>\n    </tr>\n    <tr>\n      <th>1989</th>\n      <td>324796</td>\n      <td>324796</td>\n      <td>324796</td>\n      <td>324796</td>\n      <td>324796</td>\n      <td>324796</td>\n      <td>324796</td>\n      <td>324796</td>\n      <td>324796</td>\n      <td>324796</td>\n      <td>...</td>\n      <td>324796</td>\n      <td>324796</td>\n      <td>324796</td>\n      <td>324796</td>\n      <td>324796</td>\n      <td>324796</td>\n      <td>324796</td>\n      <td>324796</td>\n      <td>324796</td>\n      <td>324796</td>\n    </tr>\n    <tr>\n      <th>1990</th>\n      <td>333142</td>\n      <td>333142</td>\n      <td>333142</td>\n      <td>333142</td>\n      <td>333142</td>\n      <td>333142</td>\n      <td>333142</td>\n      <td>333142</td>\n      <td>333142</td>\n      <td>333142</td>\n      <td>...</td>\n      <td>333142</td>\n      <td>333142</td>\n      <td>333142</td>\n      <td>333142</td>\n      <td>333142</td>\n      <td>333142</td>\n      <td>333142</td>\n      <td>333142</td>\n      <td>333142</td>\n      <td>333142</td>\n    </tr>\n    <tr>\n      <th>1991</th>\n      <td>337691</td>\n      <td>337691</td>\n      <td>337691</td>\n      <td>337691</td>\n      <td>337691</td>\n      <td>337691</td>\n      <td>337691</td>\n      <td>337691</td>\n      <td>337691</td>\n      <td>337691</td>\n      <td>...</td>\n      <td>337691</td>\n      <td>337691</td>\n      <td>337691</td>\n      <td>337691</td>\n      <td>337691</td>\n      <td>337691</td>\n      <td>337691</td>\n      <td>337691</td>\n      <td>337691</td>\n      <td>337691</td>\n    </tr>\n    <tr>\n      <th>1992</th>\n      <td>331515</td>\n      <td>331515</td>\n      <td>331515</td>\n      <td>331515</td>\n      <td>331515</td>\n      <td>331515</td>\n      <td>331515</td>\n      <td>331515</td>\n      <td>331515</td>\n      <td>331515</td>\n      <td>...</td>\n      <td>331515</td>\n      <td>331515</td>\n      <td>331515</td>\n      <td>331515</td>\n      <td>331515</td>\n      <td>331515</td>\n      <td>331515</td>\n      <td>331515</td>\n      <td>331515</td>\n      <td>331515</td>\n    </tr>\n    <tr>\n      <th>1993</th>\n      <td>339661</td>\n      <td>339661</td>\n      <td>339661</td>\n      <td>339661</td>\n      <td>339661</td>\n      <td>339661</td>\n      <td>339661</td>\n      <td>339661</td>\n      <td>339661</td>\n      <td>339661</td>\n      <td>...</td>\n      <td>339661</td>\n      <td>339661</td>\n      <td>339661</td>\n      <td>339661</td>\n      <td>339661</td>\n      <td>339661</td>\n      <td>339661</td>\n      <td>339661</td>\n      <td>339661</td>\n      <td>339661</td>\n    </tr>\n    <tr>\n      <th>1994</th>\n      <td>338242</td>\n      <td>338242</td>\n      <td>338242</td>\n      <td>338242</td>\n      <td>338242</td>\n      <td>338242</td>\n      <td>338242</td>\n      <td>338242</td>\n      <td>338242</td>\n      <td>338242</td>\n      <td>...</td>\n      <td>338242</td>\n      <td>338242</td>\n      <td>338242</td>\n      <td>338242</td>\n      <td>338242</td>\n      <td>338242</td>\n      <td>338242</td>\n      <td>338242</td>\n      <td>338242</td>\n      <td>338242</td>\n    </tr>\n    <tr>\n      <th>1995</th>\n      <td>346227</td>\n      <td>346227</td>\n      <td>346227</td>\n      <td>346227</td>\n      <td>346227</td>\n      <td>346227</td>\n      <td>346227</td>\n      <td>346227</td>\n      <td>346227</td>\n      <td>346227</td>\n      <td>...</td>\n      <td>346227</td>\n      <td>346227</td>\n      <td>346227</td>\n      <td>346227</td>\n      <td>346227</td>\n      <td>346227</td>\n      <td>346227</td>\n      <td>346227</td>\n      <td>346227</td>\n      <td>346227</td>\n    </tr>\n    <tr>\n      <th>1996</th>\n      <td>351449</td>\n      <td>351449</td>\n      <td>351449</td>\n      <td>351449</td>\n      <td>351449</td>\n      <td>351449</td>\n      <td>351449</td>\n      <td>351449</td>\n      <td>351449</td>\n      <td>351449</td>\n      <td>...</td>\n      <td>351449</td>\n      <td>351449</td>\n      <td>351449</td>\n      <td>351449</td>\n      <td>351449</td>\n      <td>351449</td>\n      <td>351449</td>\n      <td>351449</td>\n      <td>351449</td>\n      <td>351449</td>\n    </tr>\n    <tr>\n      <th>1997</th>\n      <td>349521</td>\n      <td>349521</td>\n      <td>349521</td>\n      <td>349521</td>\n      <td>349521</td>\n      <td>349521</td>\n      <td>349521</td>\n      <td>349521</td>\n      <td>349521</td>\n      <td>349521</td>\n      <td>...</td>\n      <td>349521</td>\n      <td>349521</td>\n      <td>349521</td>\n      <td>349521</td>\n      <td>349521</td>\n      <td>349521</td>\n      <td>349521</td>\n      <td>349521</td>\n      <td>349521</td>\n      <td>349521</td>\n    </tr>\n    <tr>\n      <th>1998</th>\n      <td>360511</td>\n      <td>360511</td>\n      <td>360511</td>\n      <td>360511</td>\n      <td>360511</td>\n      <td>360511</td>\n      <td>360511</td>\n      <td>360511</td>\n      <td>360511</td>\n      <td>360511</td>\n      <td>...</td>\n      <td>360511</td>\n      <td>360511</td>\n      <td>360511</td>\n      <td>360511</td>\n      <td>360511</td>\n      <td>360511</td>\n      <td>360511</td>\n      <td>360511</td>\n      <td>360511</td>\n      <td>360511</td>\n    </tr>\n    <tr>\n      <th>1999</th>\n      <td>371102</td>\n      <td>371102</td>\n      <td>371102</td>\n      <td>371102</td>\n      <td>371102</td>\n      <td>371102</td>\n      <td>371102</td>\n      <td>371102</td>\n      <td>371102</td>\n      <td>371102</td>\n      <td>...</td>\n      <td>371102</td>\n      <td>371102</td>\n      <td>371102</td>\n      <td>371102</td>\n      <td>371102</td>\n      <td>371102</td>\n      <td>371102</td>\n      <td>371102</td>\n      <td>371102</td>\n      <td>371102</td>\n    </tr>\n    <tr>\n      <th>2000</th>\n      <td>360391</td>\n      <td>360391</td>\n      <td>360391</td>\n      <td>360391</td>\n      <td>360391</td>\n      <td>360391</td>\n      <td>360391</td>\n      <td>360391</td>\n      <td>360391</td>\n      <td>360391</td>\n      <td>...</td>\n      <td>360391</td>\n      <td>360391</td>\n      <td>360391</td>\n      <td>360391</td>\n      <td>360391</td>\n      <td>360391</td>\n      <td>360391</td>\n      <td>360391</td>\n      <td>360391</td>\n      <td>360391</td>\n    </tr>\n  </tbody>\n</table>\n<p>26 rows × 31 columns</p>\n</div>"
     },
     "metadata": {},
     "execution_count": 4
    }
   ],
   "source": [
    "df.groupby(\"ANODEF\").count()"
   ]
  }
 ]
}